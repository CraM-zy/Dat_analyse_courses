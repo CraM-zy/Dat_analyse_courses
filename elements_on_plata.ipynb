{
 "cells": [
  {
   "cell_type": "code",
   "execution_count": 2,
   "id": "white-profile",
   "metadata": {},
   "outputs": [],
   "source": [
    "import numpy as np\n",
    "import pandas as pd\n",
    "import random as rand"
   ]
  },
  {
   "cell_type": "code",
   "execution_count": 3,
   "id": "urban-constitution",
   "metadata": {},
   "outputs": [],
   "source": [
    "plase_zone = np.array ([[5,6,7],[2,3,4],[100,1,100]])\n",
    "min_val = 1\n",
    "plase_zone = plase_zone - min_val\n",
    "matrix_dist = np.zeros((7, 7))\n",
    "summ = np.zeros(7)\n",
    "dist = np.zeros(7)\n",
    "summ_c = np.zeros(7)\n",
    "queue = np.zeros(7)"
   ]
  },
  {
   "cell_type": "code",
   "execution_count": 4,
   "id": "opposite-medication",
   "metadata": {},
   "outputs": [],
   "source": [
    "for i in range(0,3):\n",
    "    for j in range(0,3):\n",
    "        element = plase_zone[i][j] \n",
    "        if element >= 99: continue\n",
    "        for m in range(0, 3):\n",
    "            for n in range(0, 3):\n",
    "                element2 = plase_zone[m][n]\n",
    "                if element2 >= 99: continue\n",
    "                matrix_dist[element][element2] = abs(i - m) + abs(j - n)"
   ]
  },
  {
   "cell_type": "code",
   "execution_count": 5,
   "id": "aggressive-amazon",
   "metadata": {},
   "outputs": [
    {
     "data": {
      "text/plain": [
       "array([[0., 2., 1., 2., 3., 2., 3.],\n",
       "       [2., 0., 1., 2., 1., 2., 3.],\n",
       "       [1., 1., 0., 1., 2., 1., 2.],\n",
       "       [2., 2., 1., 0., 3., 2., 1.],\n",
       "       [3., 1., 2., 3., 0., 1., 2.],\n",
       "       [2., 2., 1., 2., 1., 0., 1.],\n",
       "       [3., 3., 2., 1., 2., 1., 0.]])"
      ]
     },
     "execution_count": 5,
     "metadata": {},
     "output_type": "execute_result"
    }
   ],
   "source": [
    "matrix_dist"
   ]
  },
  {
   "cell_type": "code",
   "execution_count": 6,
   "id": "native-solution",
   "metadata": {},
   "outputs": [],
   "source": [
    "for i in range(0,7):\n",
    "    for j in range(0,7):\n",
    "        summ[i] = summ[i] + matrix_dist[i][j]"
   ]
  },
  {
   "cell_type": "code",
   "execution_count": 7,
   "id": "cutting-developer",
   "metadata": {},
   "outputs": [
    {
     "data": {
      "text/plain": [
       "array([13., 11.,  8., 11., 12.,  9., 12.])"
      ]
     },
     "execution_count": 7,
     "metadata": {},
     "output_type": "execute_result"
    }
   ],
   "source": [
    "summ"
   ]
  },
  {
   "cell_type": "code",
   "execution_count": 8,
   "id": "compliant-walter",
   "metadata": {},
   "outputs": [],
   "source": [
    "index = np.array([1,2,3,4,5,6,7])\n",
    "matrix_summ = np.zeros((7, 2))\n",
    "for i in range(7):\n",
    "    for j in range(2):\n",
    "        if j == 0:\n",
    "            matrix_summ[i][j] = index[i]\n",
    "        else:\n",
    "            matrix_summ[i][j] = summ[i]\n",
    "matrix_summ = np.array(sorted(matrix_summ, key=lambda x :x[-1]))"
   ]
  },
  {
   "cell_type": "code",
   "execution_count": 9,
   "id": "effective-latitude",
   "metadata": {},
   "outputs": [],
   "source": [
    "for i in range(7):\n",
    "    for j in range(1):\n",
    "       dist[i] = matrix_summ[i][j]"
   ]
  },
  {
   "cell_type": "code",
   "execution_count": 10,
   "id": "noble-lover",
   "metadata": {},
   "outputs": [
    {
     "data": {
      "text/plain": [
       "array([3., 6., 2., 4., 5., 7., 1.])"
      ]
     },
     "execution_count": 10,
     "metadata": {},
     "output_type": "execute_result"
    }
   ],
   "source": [
    "dist"
   ]
  },
  {
   "cell_type": "code",
   "execution_count": 11,
   "id": "reported-consortium",
   "metadata": {},
   "outputs": [],
   "source": [
    "c = np.zeros((7, 7))\n",
    "c[0][0] = 0\n",
    "c[0][1] = np.floor(100/6) + 1 + np.floor(100/7) + 1\n",
    "c[0][2] = np.floor(100/7) + 1\n",
    "c[0][3] = np.floor(100/6) + 1 + np.floor(100/7) + 1\n",
    "c[0][4] = np.floor(100/7) + 1\n",
    "c[0][5] = np.floor(100/7) + 1\n",
    "c[0][6] = np.floor(100/6) + 1 + np.floor(100/7) + 1\n",
    "\n",
    "c[1][0] = c[0][1]\n",
    "c[1][1] = 0\n",
    "c[1][2] = 3 * (np.floor(100/2) + 1) + np.floor(100/3) + 1\n",
    "c[1][3] = np.floor(100/6) + 1 + np.floor(100/7) + 1 + np.floor(100/3) + 1\n",
    "c[1][4] = 0\n",
    "c[1][5] = np.floor(100/7) + 1\n",
    "c[1][6] = np.floor(100/6) + 1\n",
    "\n",
    "c[2][0] = c[0][2]\n",
    "c[2][1] = c[1][2]\n",
    "c[2][2] = 0\n",
    "c[2][3] = np.floor(100/3) + 1\n",
    "c[2][4] = 0\n",
    "c[2][5] = 0\n",
    "c[2][6] = 0\n",
    "\n",
    "c[3][0] = c[0][3]\n",
    "c[3][1] = c[1][3]\n",
    "c[3][2] = c[2][3]\n",
    "c[3][3] = 0\n",
    "c[3][4] = 3 * (np.floor(100/2) + 1) + np.floor(100/3) + 1\n",
    "c[3][5] = np.floor(100/7) + 1 + np.floor(100/3) + 1\n",
    "c[3][6] = np.floor(100/6) + 1\n",
    "\n",
    "c[4][0] = c[0][4]\n",
    "c[4][1] = c[1][4]\n",
    "c[4][2] = c[2][4]\n",
    "c[4][3] = c[3][4]\n",
    "c[4][4] = 0\n",
    "c[4][5] = 0\n",
    "c[4][6] = 0\n",
    "\n",
    "c[5][0] = c[0][5]\n",
    "c[5][1] = c[1][5]\n",
    "c[5][2] = c[2][5]\n",
    "c[5][3] = c[3][5]\n",
    "c[5][4] = c[4][5]\n",
    "c[5][5] = 0\n",
    "c[5][6] = 3 * (np.floor(100/2) + 1)\n",
    "\n",
    "c[6][0] = c[0][6]\n",
    "c[6][1] = c[1][6]\n",
    "c[6][2] = c[2][6]\n",
    "c[6][3] = c[3][6]\n",
    "c[6][4] = c[4][6]\n",
    "c[6][5] = c[5][6]\n",
    "c[6][6] = 0"
   ]
  },
  {
   "cell_type": "code",
   "execution_count": 12,
   "id": "operational-retailer",
   "metadata": {},
   "outputs": [],
   "source": [
    "for i in range(0,7):\n",
    "    for j in range(0,7):\n",
    "        summ_c[i] = summ_c[i] + c[i][j]"
   ]
  },
  {
   "cell_type": "code",
   "execution_count": 13,
   "id": "biblical-distribution",
   "metadata": {},
   "outputs": [
    {
     "data": {
      "text/plain": [
       "array([141., 317., 236., 385., 202., 232., 219.])"
      ]
     },
     "execution_count": 13,
     "metadata": {},
     "output_type": "execute_result"
    }
   ],
   "source": [
    "summ_c"
   ]
  },
  {
   "cell_type": "code",
   "execution_count": 14,
   "id": "composite-service",
   "metadata": {},
   "outputs": [],
   "source": [
    "matrix_summ2 = np.zeros((7, 2))\n",
    "for i in range(7):\n",
    "    for j in range(2):\n",
    "        if j == 0:\n",
    "            matrix_summ2[i][j] = index[i]\n",
    "        else:\n",
    "            matrix_summ2[i][j] = summ_c[i]\n",
    "matrix_summ2 = np.array(sorted(matrix_summ2, key=lambda x :x[-1]))"
   ]
  },
  {
   "cell_type": "code",
   "execution_count": 15,
   "id": "based-crossing",
   "metadata": {},
   "outputs": [],
   "source": [
    "for i in range(7):\n",
    "    for j in range(1):\n",
    "       queue[i] = matrix_summ2[i][j]"
   ]
  },
  {
   "cell_type": "code",
   "execution_count": 16,
   "id": "mathematical-disaster",
   "metadata": {},
   "outputs": [
    {
     "data": {
      "text/plain": [
       "array([4., 2., 3., 6., 7., 5., 1.])"
      ]
     },
     "execution_count": 16,
     "metadata": {},
     "output_type": "execute_result"
    }
   ],
   "source": [
    "queue[::-1]"
   ]
  },
  {
   "cell_type": "code",
   "execution_count": 31,
   "id": "greenhouse-certificate",
   "metadata": {},
   "outputs": [],
   "source": [
    "def component_vector(position):\n",
    "    if position == 0:\n",
    "        return 2, 1\n",
    "    if position == 1:\n",
    "        return 1, 0\n",
    "    if position == 2:\n",
    "        return 1, 1\n",
    "    if position == 3:\n",
    "        return 1, 2\n",
    "    if position == 4:\n",
    "        return 0, 0\n",
    "    if position == 5:\n",
    "        return 0, 1\n",
    "    if position == 6:\n",
    "        return 0, 2\n",
    "\n",
    "def distance_matrix(position_vector):\n",
    "    dist_matrix = [[0, 0, 0, 0, 0, 0, 0],\n",
    "                   [0, 0, 0, 0, 0, 0, 0],\n",
    "                   [0, 0, 0, 0, 0, 0, 0],\n",
    "                   [0, 0, 0, 0, 0, 0, 0],\n",
    "                   [0, 0, 0, 0, 0, 0, 0],\n",
    "                   [0, 0, 0, 0, 0, 0, 0],\n",
    "                   [0, 0, 0, 0, 0, 0, 0]]\n",
    "    for i in range(1, 8):\n",
    "        for j in range(1, 8):\n",
    "            x1, y1 = component_vector(position_vector.index(i))\n",
    "            x2, y2 = component_vector(position_vector.index(j))\n",
    "            dist_matrix[i-1][j-1] = abs(x2-x1) + abs(y2-y1)\n",
    "    return dist_matrix\n"
   ]
  },
  {
   "cell_type": "code",
   "execution_count": 34,
   "id": "legislative-canada",
   "metadata": {},
   "outputs": [],
   "source": [
    "def find_optimum():\n",
    "    vector = []\n",
    "    func_min = 100000000000\n",
    "    for _ in range(100):\n",
    "        func = 0\n",
    "        pos_vector = [2, 3, 4, 5, 6, 7]\n",
    "        rand.shuffle(pos_vector)\n",
    "        pos_vector.insert(0, 1)\n",
    "        matrix = distance_matrix(pos_vector)\n",
    "        for i in range(7):\n",
    "            for j in range(7):\n",
    "                func = func + c[i][j] * matrix[i][j]\n",
    "        if func < func_min:\n",
    "            func_min = func\n",
    "            vector = pos_vector\n",
    "    print(vector)\n",
    "    print(func_min)\n"
   ]
  },
  {
   "cell_type": "code",
   "execution_count": 35,
   "id": "secondary-arthur",
   "metadata": {},
   "outputs": [
    {
     "name": "stdout",
     "output_type": "stream",
     "text": [
      "[1, 5, 4, 7, 3, 2, 6]\n",
      "2210.0\n"
     ]
    }
   ],
   "source": [
    "find_optimum()"
   ]
  },
  {
   "cell_type": "code",
   "execution_count": null,
   "id": "inner-delhi",
   "metadata": {},
   "outputs": [],
   "source": []
  },
  {
   "cell_type": "code",
   "execution_count": null,
   "id": "allied-feeling",
   "metadata": {},
   "outputs": [],
   "source": []
  }
 ],
 "metadata": {
  "kernelspec": {
   "display_name": "Python 3",
   "language": "python",
   "name": "python3"
  },
  "language_info": {
   "codemirror_mode": {
    "name": "ipython",
    "version": 3
   },
   "file_extension": ".py",
   "mimetype": "text/x-python",
   "name": "python",
   "nbconvert_exporter": "python",
   "pygments_lexer": "ipython3",
   "version": "3.8.5"
  }
 },
 "nbformat": 4,
 "nbformat_minor": 5
}
