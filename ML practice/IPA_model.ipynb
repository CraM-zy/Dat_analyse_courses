{
 "cells": [
  {
   "cell_type": "code",
   "execution_count": 145,
   "id": "republican-mention",
   "metadata": {},
   "outputs": [],
   "source": [
    "from flask import Flask, request\n",
    "import pickle\n",
    "import numpy as np\n",
    "import sys\n",
    "import os\n",
    "from flask_restful import Api, Resource, reqparse"
   ]
  },
  {
   "cell_type": "code",
   "execution_count": 146,
   "id": "front-skill",
   "metadata": {},
   "outputs": [],
   "source": [
    "app = Flask(__name__)\n",
    "api = Api(app)"
   ]
  },
  {
   "cell_type": "code",
   "execution_count": 147,
   "id": "packed-fetish",
   "metadata": {},
   "outputs": [],
   "source": [
    "with open('rfc_model.pkl', 'rb') as rfc_model_pkl:\n",
    "    rfc = pickle.load(rfc_model_pkl)"
   ]
  },
  {
   "cell_type": "code",
   "execution_count": 148,
   "id": "5eca3421",
   "metadata": {},
   "outputs": [],
   "source": [
    "with open('cbc_model.pkl', 'rb') as cbc_model_pkl:\n",
    "    cbc = pickle.load(cbc_model_pkl)"
   ]
  },
  {
   "cell_type": "code",
   "execution_count": 149,
   "id": "619c4846",
   "metadata": {},
   "outputs": [],
   "source": [
    "with open('gbc_model.pkl', 'rb') as gbc_model_pkl:\n",
    "    gbc = pickle.load(gbc_model_pkl)"
   ]
  },
  {
   "cell_type": "code",
   "execution_count": 150,
   "id": "454e741f",
   "metadata": {},
   "outputs": [],
   "source": [
    "with open('lgr_model.pkl', 'rb') as lgr_model_pkl:\n",
    "    lgr = pickle.load(lgr_model_pkl)"
   ]
  },
  {
   "cell_type": "code",
   "execution_count": 151,
   "id": "critical-transparency",
   "metadata": {},
   "outputs": [
    {
     "name": "stdout",
     "output_type": "stream",
     "text": [
      "RandomForestClassifier(max_depth=5, random_state=2)\n",
      "<catboost.core.CatBoostClassifier object at 0x7fbfa6acc070>\n",
      "GradientBoostingClassifier(learning_rate=0.025, random_state=2)\n",
      "LogisticRegression(C=0.01, n_jobs=-1)\n"
     ]
    }
   ],
   "source": [
    "print(rfc)\n",
    "print(cbc)\n",
    "print(gbc)\n",
    "print(lgr)"
   ]
  },
  {
   "cell_type": "code",
   "execution_count": 152,
   "id": "641bb388",
   "metadata": {},
   "outputs": [],
   "source": [
    "fields = {'field1': {'field': 'age'}, 'field2': {'field': 'education-num'},}"
   ]
  },
  {
   "cell_type": "code",
   "execution_count": 153,
   "id": "e9dede69",
   "metadata": {},
   "outputs": [],
   "source": [
    "def abort_if_lgr_doesnt_exist(lgr_model):\n",
    "    if lgr_model not in fields:\n",
    "        abort(404, message=\"Fields {} doesn't exist\".format(lgr_model))"
   ]
  },
  {
   "cell_type": "code",
   "execution_count": 154,
   "id": "6ec75ac4",
   "metadata": {},
   "outputs": [],
   "source": [
    "def abort_if_rfc_doesnt_exist(rfc_model):\n",
    "    if rfc_model not in fields:\n",
    "        abort(404, message=\"Fields {} doesn't exist\".format(rfc_model))"
   ]
  },
  {
   "cell_type": "code",
   "execution_count": 155,
   "id": "4c6b600e",
   "metadata": {},
   "outputs": [],
   "source": [
    "def abort_if_cbc_doesnt_exist(cbc_model):\n",
    "    if cbc_model not in fields:\n",
    "        abort(404, message=\"Fields {} doesn't exist\".format(cbc_model))"
   ]
  },
  {
   "cell_type": "code",
   "execution_count": 156,
   "id": "f42fcb7d",
   "metadata": {},
   "outputs": [],
   "source": [
    "def abort_if_gbc_doesnt_exist(gbc_model):\n",
    "    if gbc_model not in fields:\n",
    "        abort(404, message=\"Fields {} doesn't exist\".format(gbc_model))"
   ]
  },
  {
   "cell_type": "code",
   "execution_count": 157,
   "id": "d2c948e9",
   "metadata": {},
   "outputs": [
    {
     "data": {
      "text/plain": [
       "<flask_restful.reqparse.RequestParser at 0x7fbfa6a84cd0>"
      ]
     },
     "execution_count": 157,
     "metadata": {},
     "output_type": "execute_result"
    }
   ],
   "source": [
    "parser = reqparse.RequestParser()\n",
    "parser.add_argument('field')"
   ]
  },
  {
   "cell_type": "code",
   "execution_count": 158,
   "id": "designed-insider",
   "metadata": {},
   "outputs": [],
   "source": [
    "#port = int(os.environ.get('PORT', 5000))"
   ]
  },
  {
   "cell_type": "code",
   "execution_count": 159,
   "id": "global-atlantic",
   "metadata": {},
   "outputs": [],
   "source": [
    "@app.route('/')\n",
    "def prediction():\n",
    "    age = request.args.get('age')\n",
    "    education_num = request.args.get('education-num')\n",
    "    new_record = np.array([[age,education_num]])\n",
    "    predict_result = knn.predict(new_record)\n",
    "    return 'Predicted result for observation ' + str(new_record) + ' is: ' + str(predict_result)"
   ]
  },
  {
   "cell_type": "code",
   "execution_count": 160,
   "id": "induced-polls",
   "metadata": {},
   "outputs": [
    {
     "name": "stdout",
     "output_type": "stream",
     "text": [
      " * Serving Flask app \"__main__\" (lazy loading)\n",
      " * Environment: production\n",
      "\u001b[31m   WARNING: This is a development server. Do not use it in a production deployment.\u001b[0m\n",
      "\u001b[2m   Use a production WSGI server instead.\u001b[0m\n",
      " * Debug mode: on\n"
     ]
    },
    {
     "ename": "OSError",
     "evalue": "[Errno 48] Address already in use",
     "output_type": "error",
     "traceback": [
      "\u001b[0;31m---------------------------------------------------------------------------\u001b[0m",
      "\u001b[0;31mOSError\u001b[0m                                   Traceback (most recent call last)",
      "\u001b[0;32m<ipython-input-160-8edf4dbbb9bb>\u001b[0m in \u001b[0;36m<module>\u001b[0;34m\u001b[0m\n\u001b[1;32m      1\u001b[0m \u001b[0;32mif\u001b[0m \u001b[0m__name__\u001b[0m \u001b[0;34m==\u001b[0m \u001b[0;34m'__main__'\u001b[0m\u001b[0;34m:\u001b[0m\u001b[0;34m\u001b[0m\u001b[0;34m\u001b[0m\u001b[0m\n\u001b[0;32m----> 2\u001b[0;31m     \u001b[0mapp\u001b[0m\u001b[0;34m.\u001b[0m\u001b[0mrun\u001b[0m\u001b[0;34m(\u001b[0m\u001b[0mdebug\u001b[0m \u001b[0;34m=\u001b[0m \u001b[0;32mTrue\u001b[0m\u001b[0;34m)\u001b[0m\u001b[0;34m\u001b[0m\u001b[0;34m\u001b[0m\u001b[0m\n\u001b[0m",
      "\u001b[0;32m~/opt/anaconda3/lib/python3.8/site-packages/flask/app.py\u001b[0m in \u001b[0;36mrun\u001b[0;34m(self, host, port, debug, load_dotenv, **options)\u001b[0m\n\u001b[1;32m    988\u001b[0m \u001b[0;34m\u001b[0m\u001b[0m\n\u001b[1;32m    989\u001b[0m         \u001b[0;32mtry\u001b[0m\u001b[0;34m:\u001b[0m\u001b[0;34m\u001b[0m\u001b[0;34m\u001b[0m\u001b[0m\n\u001b[0;32m--> 990\u001b[0;31m             \u001b[0mrun_simple\u001b[0m\u001b[0;34m(\u001b[0m\u001b[0mhost\u001b[0m\u001b[0;34m,\u001b[0m \u001b[0mport\u001b[0m\u001b[0;34m,\u001b[0m \u001b[0mself\u001b[0m\u001b[0;34m,\u001b[0m \u001b[0;34m**\u001b[0m\u001b[0moptions\u001b[0m\u001b[0;34m)\u001b[0m\u001b[0;34m\u001b[0m\u001b[0;34m\u001b[0m\u001b[0m\n\u001b[0m\u001b[1;32m    991\u001b[0m         \u001b[0;32mfinally\u001b[0m\u001b[0;34m:\u001b[0m\u001b[0;34m\u001b[0m\u001b[0;34m\u001b[0m\u001b[0m\n\u001b[1;32m    992\u001b[0m             \u001b[0;31m# reset the first request information if the development server\u001b[0m\u001b[0;34m\u001b[0m\u001b[0;34m\u001b[0m\u001b[0;34m\u001b[0m\u001b[0m\n",
      "\u001b[0;32m~/opt/anaconda3/lib/python3.8/site-packages/werkzeug/serving.py\u001b[0m in \u001b[0;36mrun_simple\u001b[0;34m(hostname, port, application, use_reloader, use_debugger, use_evalex, extra_files, reloader_interval, reloader_type, threaded, processes, request_handler, static_files, passthrough_errors, ssl_context)\u001b[0m\n\u001b[1;32m   1028\u001b[0m             \u001b[0ms\u001b[0m \u001b[0;34m=\u001b[0m \u001b[0msocket\u001b[0m\u001b[0;34m.\u001b[0m\u001b[0msocket\u001b[0m\u001b[0;34m(\u001b[0m\u001b[0maddress_family\u001b[0m\u001b[0;34m,\u001b[0m \u001b[0msocket\u001b[0m\u001b[0;34m.\u001b[0m\u001b[0mSOCK_STREAM\u001b[0m\u001b[0;34m)\u001b[0m\u001b[0;34m\u001b[0m\u001b[0;34m\u001b[0m\u001b[0m\n\u001b[1;32m   1029\u001b[0m             \u001b[0ms\u001b[0m\u001b[0;34m.\u001b[0m\u001b[0msetsockopt\u001b[0m\u001b[0;34m(\u001b[0m\u001b[0msocket\u001b[0m\u001b[0;34m.\u001b[0m\u001b[0mSOL_SOCKET\u001b[0m\u001b[0;34m,\u001b[0m \u001b[0msocket\u001b[0m\u001b[0;34m.\u001b[0m\u001b[0mSO_REUSEADDR\u001b[0m\u001b[0;34m,\u001b[0m \u001b[0;36m1\u001b[0m\u001b[0;34m)\u001b[0m\u001b[0;34m\u001b[0m\u001b[0;34m\u001b[0m\u001b[0m\n\u001b[0;32m-> 1030\u001b[0;31m             \u001b[0ms\u001b[0m\u001b[0;34m.\u001b[0m\u001b[0mbind\u001b[0m\u001b[0;34m(\u001b[0m\u001b[0mserver_address\u001b[0m\u001b[0;34m)\u001b[0m\u001b[0;34m\u001b[0m\u001b[0;34m\u001b[0m\u001b[0m\n\u001b[0m\u001b[1;32m   1031\u001b[0m             \u001b[0;32mif\u001b[0m \u001b[0mhasattr\u001b[0m\u001b[0;34m(\u001b[0m\u001b[0ms\u001b[0m\u001b[0;34m,\u001b[0m \u001b[0;34m\"set_inheritable\"\u001b[0m\u001b[0;34m)\u001b[0m\u001b[0;34m:\u001b[0m\u001b[0;34m\u001b[0m\u001b[0;34m\u001b[0m\u001b[0m\n\u001b[1;32m   1032\u001b[0m                 \u001b[0ms\u001b[0m\u001b[0;34m.\u001b[0m\u001b[0mset_inheritable\u001b[0m\u001b[0;34m(\u001b[0m\u001b[0;32mTrue\u001b[0m\u001b[0;34m)\u001b[0m\u001b[0;34m\u001b[0m\u001b[0;34m\u001b[0m\u001b[0m\n",
      "\u001b[0;31mOSError\u001b[0m: [Errno 48] Address already in use"
     ]
    }
   ],
   "source": [
    "if __name__ == '__main__':\n",
    "    app.run(debug = True)"
   ]
  },
  {
   "cell_type": "code",
   "execution_count": null,
   "id": "525da704",
   "metadata": {},
   "outputs": [],
   "source": []
  }
 ],
 "metadata": {
  "kernelspec": {
   "display_name": "Python 3",
   "language": "python",
   "name": "python3"
  },
  "language_info": {
   "codemirror_mode": {
    "name": "ipython",
    "version": 3
   },
   "file_extension": ".py",
   "mimetype": "text/x-python",
   "name": "python",
   "nbconvert_exporter": "python",
   "pygments_lexer": "ipython3",
   "version": "3.8.8"
  }
 },
 "nbformat": 4,
 "nbformat_minor": 5
}
