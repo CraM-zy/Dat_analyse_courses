{
 "cells": [
  {
   "cell_type": "code",
   "execution_count": 310,
   "id": "f611b8e4",
   "metadata": {},
   "outputs": [],
   "source": [
    "import numpy as np\n",
    "%matplotlib inline\n",
    "import matplotlib.pyplot as plt"
   ]
  },
  {
   "cell_type": "code",
   "execution_count": 311,
   "id": "1feae66e",
   "metadata": {},
   "outputs": [],
   "source": [
    "#вводим два массива любых чисел\n",
    "X = np.array([-1,0.1,0.3,0.5,0.8,1]).reshape((-1, 1))\n",
    "Y = np.array([-0.2,0,0.2,0.4, 0.6, 0.8])"
   ]
  },
  {
   "cell_type": "code",
   "execution_count": 312,
   "id": "00b8f20b",
   "metadata": {},
   "outputs": [
    {
     "data": {
      "text/plain": [
       "array([[-1. ],\n",
       "       [ 0.1],\n",
       "       [ 0.3],\n",
       "       [ 0.5],\n",
       "       [ 0.8],\n",
       "       [ 1. ]])"
      ]
     },
     "execution_count": 312,
     "metadata": {},
     "output_type": "execute_result"
    }
   ],
   "source": [
    "# этот массив надо сразу вводить в таком виде, но мне лень\n",
    "X"
   ]
  },
  {
   "cell_type": "code",
   "execution_count": 313,
   "id": "d6918d60",
   "metadata": {},
   "outputs": [],
   "source": [
    "#находим среднее арифметическое у каждого массива\n",
    "mean_x = np.mean(X)\n",
    "mean_y = np.mean(Y)"
   ]
  },
  {
   "cell_type": "code",
   "execution_count": 314,
   "id": "21836031",
   "metadata": {},
   "outputs": [
    {
     "data": {
      "text/plain": [
       "0.2833333333333333"
      ]
     },
     "execution_count": 314,
     "metadata": {},
     "output_type": "execute_result"
    }
   ],
   "source": [
    "mean_x"
   ]
  },
  {
   "cell_type": "code",
   "execution_count": 315,
   "id": "5488a301",
   "metadata": {},
   "outputs": [
    {
     "data": {
      "text/plain": [
       "0.3"
      ]
     },
     "execution_count": 315,
     "metadata": {},
     "output_type": "execute_result"
    }
   ],
   "source": [
    "mean_y"
   ]
  },
  {
   "cell_type": "code",
   "execution_count": 316,
   "id": "7da628b4",
   "metadata": {},
   "outputs": [],
   "source": [
    "#находим длину массива X\n",
    "size = len(X)"
   ]
  },
  {
   "cell_type": "code",
   "execution_count": 329,
   "id": "ff870f5b",
   "metadata": {},
   "outputs": [
    {
     "name": "stdout",
     "output_type": "stream",
     "text": [
      "b1 = [0.49036545] \n",
      "b0 = [0.16106312]\n"
     ]
    }
   ],
   "source": [
    "# Y = b0 + b1*X - формула линейной регрессии\n",
    "# b1 = sum(X - mean_x)(Y - mean_y)/sum(X - mean_x)^2 - наклон или смещение линии регрессии\n",
    "# b0 - точка пересечения линии регрессии с осью\n",
    "\n",
    "numer = 0 #просто переменные для комфорта\n",
    "denom = 0\n",
    "\n",
    "for i in range(size):\n",
    "    numer += (X[i] - mean_x) * (Y[i] - mean_y)\n",
    "    denom += (X[i] - mean_x) ** 2\n",
    "    \n",
    "b1 = numer / denom\n",
    "b0 = mean_y - (b1 * mean_x)\n",
    "\n",
    "print (f'b1 = {b1} \\nb0 = {b0}')"
   ]
  },
  {
   "cell_type": "code",
   "execution_count": 330,
   "id": "f6ab832c",
   "metadata": {},
   "outputs": [
    {
     "name": "stdout",
     "output_type": "stream",
     "text": [
      "[2.99]\n",
      "[1.7]\n",
      "[1.74]\n",
      "1.8\n"
     ]
    }
   ],
   "source": [
    "# То же самое методом Крамера на всякий случай\n",
    "X_num_2 = 0\n",
    "X_num = 0\n",
    "X_Y_num = 0\n",
    "Y_num = 0\n",
    "\n",
    "for i in range(size):\n",
    "    X_num_2 += X[i]**2\n",
    "    X_num += X[i]\n",
    "    X_Y_num += X[i]*Y[i]\n",
    "    Y_num += Y[i]\n",
    "    \n",
    "X_2 = X_num_2\n",
    "X_sum = X_num\n",
    "X_Y_sum = X_Y_num\n",
    "Y_sum = Y_num\n",
    "\n",
    "print(X_2)\n",
    "print(X_sum)\n",
    "print(X_Y_sum)\n",
    "print(Y_sum)"
   ]
  },
  {
   "cell_type": "code",
   "execution_count": 331,
   "id": "50e1b608",
   "metadata": {},
   "outputs": [
    {
     "name": "stdout",
     "output_type": "stream",
     "text": [
      "[0.49036545]\n",
      "[0.16106312]\n"
     ]
    }
   ],
   "source": [
    "kramer_all = X_2*size - X_sum*X_sum\n",
    "\n",
    "kramer_a = X_Y_sum*size - Y_sum* X_sum\n",
    "a = kramer_a/kramer_all\n",
    "\n",
    "kramer_b = X_2*Y_sum - X_sum*X_Y_sum \n",
    "b = kramer_b/kramer_all\n",
    "\n",
    "print(a) #b1\n",
    "print(b) #b0"
   ]
  },
  {
   "cell_type": "code",
   "execution_count": 332,
   "id": "2790e89e",
   "metadata": {},
   "outputs": [
    {
     "data": {
      "text/plain": [
       "array([0.3])"
      ]
     },
     "execution_count": 332,
     "metadata": {},
     "output_type": "execute_result"
    }
   ],
   "source": [
    "a*mean_x + b"
   ]
  },
  {
   "cell_type": "code",
   "execution_count": 333,
   "id": "3be79799",
   "metadata": {},
   "outputs": [
    {
     "data": {
      "image/png": "[encoded data removed]",
      "text/plain": [
       "<Figure size 432x288 with 1 Axes>"
      ]
     },
     "metadata": {
      "needs_background": "light"
     },
     "output_type": "display_data"
    }
   ],
   "source": [
    "# График для наглядности (его в машинный код не нужно, это для меня)\n",
    "max_x = np.max(X) + 2\n",
    "min_x = np.min(Y) - 2\n",
    "\n",
    "x = np.linspace(min_x, max_x, 2)\n",
    "y = b0 + b1 * x\n",
    "\n",
    "plt.plot(x, y, color='#58b970', label='Regression Line')\n",
    "plt.scatter(X, Y, c='#ef5423', label='Data points')\n",
    "\n",
    "plt.legend()\n",
    "plt.show()"
   ]
  },
  {
   "cell_type": "code",
   "execution_count": 334,
   "id": "e7528a0a",
   "metadata": {},
   "outputs": [
    {
     "name": "stdout",
     "output_type": "stream",
     "text": [
      "[0.86164215]\n"
     ]
    }
   ],
   "source": [
    "# R^2 = sum(Ypred - mean_y)^2/sum(Y - mean_y) - коэффициент детерминции\n",
    "# короче оцениваем херовость нашей регрессии и уходим в депрессию\n",
    "\n",
    "ss_t = 0 #просто переменные для комфорта\n",
    "ss_r = 0 \n",
    "\n",
    "for i in range(size):\n",
    "    y_pred = b0 + b1 * X[i]\n",
    "    ss_t += (Y[i] - mean_y) ** 2\n",
    "    ss_r += (Y[i] - y_pred) ** 2\n",
    "    \n",
    "R2 = 1 - (ss_r/ss_t)\n",
    "\n",
    "print(R2)"
   ]
  }
 ],
 "metadata": {
  "kernelspec": {
   "display_name": "Python 3",
   "language": "python",
   "name": "python3"
  },
  "language_info": {
   "codemirror_mode": {
    "name": "ipython",
    "version": 3
   },
   "file_extension": ".py",
   "mimetype": "text/x-python",
   "name": "python",
   "nbconvert_exporter": "python",
   "pygments_lexer": "ipython3",
   "version": "3.8.8"
  }
 },
 "nbformat": 4,
 "nbformat_minor": 5
}
