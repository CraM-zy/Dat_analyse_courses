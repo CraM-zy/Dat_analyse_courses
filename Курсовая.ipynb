{
 "cells": [
  {
   "cell_type": "code",
   "execution_count": 183,
   "id": "f611b8e4",
   "metadata": {},
   "outputs": [],
   "source": [
    "import numpy as np\n",
    "%matplotlib inline\n",
    "import matplotlib.pyplot as plt"
   ]
  },
  {
   "cell_type": "code",
   "execution_count": 205,
   "id": "1feae66e",
   "metadata": {},
   "outputs": [],
   "source": [
    "#вводим два массива любых чисел\n",
    "X = np.array([2,1,-3,1,-4]).reshape((-1, 1))\n",
    "Y = np.array([1,-2,3,4,5])"
   ]
  },
  {
   "cell_type": "code",
   "execution_count": 208,
   "id": "00b8f20b",
   "metadata": {},
   "outputs": [
    {
     "data": {
      "text/plain": [
       "array([[ 2],\n",
       "       [ 1],\n",
       "       [-3],\n",
       "       [ 1],\n",
       "       [-4]])"
      ]
     },
     "execution_count": 208,
     "metadata": {},
     "output_type": "execute_result"
    }
   ],
   "source": [
    "# этот массив надо сразу вводить в таком виде, но мне лень\n",
    "X"
   ]
  },
  {
   "cell_type": "code",
   "execution_count": 209,
   "id": "d6918d60",
   "metadata": {},
   "outputs": [],
   "source": [
    "#находим среднее арифметическое у каждого массива\n",
    "mean_x = np.mean(X)\n",
    "mean_y = np.mean(Y)"
   ]
  },
  {
   "cell_type": "code",
   "execution_count": 201,
   "id": "7da628b4",
   "metadata": {},
   "outputs": [],
   "source": [
    "#находим длину массива X\n",
    "size = len(X)"
   ]
  },
  {
   "cell_type": "code",
   "execution_count": 213,
   "id": "ff870f5b",
   "metadata": {},
   "outputs": [
    {
     "name": "stdout",
     "output_type": "stream",
     "text": [
      "b1 = [-0.63013699] \n",
      "b0 = 5.2\n"
     ]
    }
   ],
   "source": [
    "# Y = b0 + b1*X - формула линейной регрессии\n",
    "# b1 = sum(X - mean_x)(Y - mean_y)/sum(X - mean_x)^2 - наклон или смещение линии регрессии\n",
    "# b0 - точка пересечения линии регрессии с осью\n",
    "\n",
    "numer = 0 #просто переменные для комфорта\n",
    "denom = 0\n",
    "for i in range(size):\n",
    "    numer += (X[i] - mean_x) * (Y[i] - mean_y)\n",
    "    denom += (X[i] - mean_x) ** 2\n",
    "b1 = numer / denom\n",
    "b0 = mean_y - (size * mean_x)\n",
    "\n",
    "print (f'b1 = {b1} \\nb0 = {b0}')"
   ]
  },
  {
   "cell_type": "code",
   "execution_count": 214,
   "id": "3be79799",
   "metadata": {},
   "outputs": [
    {
     "data": {
      "image/png": "[encoded data removed]",
      "text/plain": [
       "<Figure size 432x288 with 1 Axes>"
      ]
     },
     "metadata": {
      "needs_background": "light"
     },
     "output_type": "display_data"
    }
   ],
   "source": [
    "# График для наглядности (его в машинный код не нужно, это для меня)\n",
    "max_x = np.max(X) + size\n",
    "min_x = np.min(Y) - size\n",
    "\n",
    "x = np.linspace(min_x, max_x, size)\n",
    "y = b0 + b1 * x\n",
    "\n",
    "plt.plot(x, y, color='#58b970', label='Regression Line')\n",
    "plt.scatter(X, Y, c='#ef5423', label='Data points')\n",
    "\n",
    "plt.legend()\n",
    "plt.show()"
   ]
  },
  {
   "cell_type": "code",
   "execution_count": 212,
   "id": "e7528a0a",
   "metadata": {},
   "outputs": [
    {
     "name": "stdout",
     "output_type": "stream",
     "text": [
      "[2.47606091]\n"
     ]
    }
   ],
   "source": [
    "# R^2 = sum(Ypred - mean_y)^2/sum(Y - mean_y) - коэффициент детерминции\n",
    "# короче оцениваем херовость нашей регрессии и уходим в депрессию\n",
    "\n",
    "ss_t = 0 #просто переменные для комфорта\n",
    "ss_r = 0 \n",
    "\n",
    "for i in range(size):\n",
    "    y_pred = b0 + b1 * X[i]\n",
    "    ss_t += (Y[i] - mean_y) ** 2\n",
    "    ss_r += (y_pred - Y[i]) ** 2\n",
    "    \n",
    "R2 = ss_r/ss_t\n",
    "\n",
    "print(R2)"
   ]
  }
 ],
 "metadata": {
  "kernelspec": {
   "display_name": "Python 3",
   "language": "python",
   "name": "python3"
  },
  "language_info": {
   "codemirror_mode": {
    "name": "ipython",
    "version": 3
   },
   "file_extension": ".py",
   "mimetype": "text/x-python",
   "name": "python",
   "nbconvert_exporter": "python",
   "pygments_lexer": "ipython3",
   "version": "3.8.8"
  }
 },
 "nbformat": 4,
 "nbformat_minor": 5
}
