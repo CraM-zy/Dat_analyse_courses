{
 "cells": [
  {
   "cell_type": "code",
   "execution_count": 2,
   "id": "exempt-yacht",
   "metadata": {},
   "outputs": [],
   "source": [
    "import pandas as pd\n",
    "import numpy as np\n",
    "import matplotlib.pyplot as plt\n",
    "import seaborn as sns\n",
    "import datetime as dt"
   ]
  },
  {
   "cell_type": "code",
   "execution_count": 3,
   "id": "comprehensive-michigan",
   "metadata": {},
   "outputs": [],
   "source": [
    "event_data = pd.read_csv('/Users/cram/Downloads/event_data_train.csv')"
   ]
  },
  {
   "cell_type": "code",
   "execution_count": 4,
   "id": "broke-trash",
   "metadata": {},
   "outputs": [],
   "source": [
    "submissions_data = pd.read_csv('/Users/cram/Downloads/submissions_data_train.csv')"
   ]
  },
  {
   "cell_type": "code",
   "execution_count": 5,
   "id": "wired-harmony",
   "metadata": {},
   "outputs": [],
   "source": [
    "event_data['data']=pd.to_datetime(event_data.timestamp, unit = 's')"
   ]
  },
  {
   "cell_type": "code",
   "execution_count": 6,
   "id": "comparable-income",
   "metadata": {},
   "outputs": [],
   "source": [
    "event_data['day'] = event_data.data.dt.date"
   ]
  },
  {
   "cell_type": "code",
   "execution_count": 7,
   "id": "classical-anatomy",
   "metadata": {},
   "outputs": [],
   "source": [
    "users_events_data = event_data.pivot_table(index = 'user_id', \n",
    "                       columns = 'action', \n",
    "                       values = 'step_id', \n",
    "                       aggfunc = 'count',\n",
    "                       fill_value = 0).reset_index().head()"
   ]
  },
  {
   "cell_type": "code",
   "execution_count": 8,
   "id": "collectible-grace",
   "metadata": {},
   "outputs": [],
   "source": [
    "submissions_data['data']=pd.to_datetime(submissions_data.timestamp, unit = 's')\n",
    "submissions_data['day'] = event_data.data.dt.date"
   ]
  },
  {
   "cell_type": "code",
   "execution_count": 9,
   "id": "encouraging-jimmy",
   "metadata": {},
   "outputs": [],
   "source": [
    "users_scores = submissions_data.pivot_table(index = 'user_id', \n",
    "                                           columns = 'submission_status', \n",
    "                                           values = 'step_id', \n",
    "                                           aggfunc = 'count',\n",
    "                                           fill_value = 0).reset_index()"
   ]
  },
  {
   "cell_type": "code",
   "execution_count": 10,
   "id": "massive-crazy",
   "metadata": {},
   "outputs": [],
   "source": [
    "gape_data = event_data[['user_id','day','timestamp']].drop_duplicates(subset=['user_id','day']) \\\n",
    ".groupby('user_id')['timestamp'].apply(list) \\\n",
    ".apply(np.diff).values"
   ]
  },
  {
   "cell_type": "code",
   "execution_count": 11,
   "id": "greek-cleaners",
   "metadata": {},
   "outputs": [],
   "source": [
    "gape_data = pd.Series(np.concatenate(gape_data, axis = 0))"
   ]
  },
  {
   "cell_type": "code",
   "execution_count": 12,
   "id": "mature-sullivan",
   "metadata": {},
   "outputs": [],
   "source": [
    "gape_data =  gape_data / (24*60*60)"
   ]
  },
  {
   "cell_type": "code",
   "execution_count": 13,
   "id": "sensitive-state",
   "metadata": {},
   "outputs": [],
   "source": [
    "users_data = event_data.groupby('user_id', as_index = False) \\\n",
    ".agg({'timestamp':'max'}).rename(columns = {'timestamp':'last_timestamp'})"
   ]
  },
  {
   "cell_type": "code",
   "execution_count": 14,
   "id": "disabled-wallace",
   "metadata": {},
   "outputs": [],
   "source": [
    "now = 1526772811\n",
    "drop_out = 24*60*60*30"
   ]
  },
  {
   "cell_type": "code",
   "execution_count": 15,
   "id": "buried-surname",
   "metadata": {},
   "outputs": [],
   "source": [
    "users_data['is_gone_users'] = (now - users_data.last_timestamp) > drop_out"
   ]
  },
  {
   "cell_type": "code",
   "execution_count": 16,
   "id": "known-living",
   "metadata": {},
   "outputs": [],
   "source": [
    "users_data = users_data.merge(users_scores, on='user_id', how = 'outer')\n",
    "users_data = users_data.fillna(0)"
   ]
  },
  {
   "cell_type": "code",
   "execution_count": 17,
   "id": "absent-policy",
   "metadata": {},
   "outputs": [
    {
     "data": {
      "text/html": [
       "<div>\n",
       "<style scoped>\n",
       "    .dataframe tbody tr th:only-of-type {\n",
       "        vertical-align: middle;\n",
       "    }\n",
       "\n",
       "    .dataframe tbody tr th {\n",
       "        vertical-align: top;\n",
       "    }\n",
       "\n",
       "    .dataframe thead th {\n",
       "        text-align: right;\n",
       "    }\n",
       "</style>\n",
       "<table border=\"1\" class=\"dataframe\">\n",
       "  <thead>\n",
       "    <tr style=\"text-align: right;\">\n",
       "      <th></th>\n",
       "      <th>user_id</th>\n",
       "      <th>last_timestamp</th>\n",
       "      <th>is_gone_users</th>\n",
       "      <th>correct</th>\n",
       "      <th>wrong</th>\n",
       "    </tr>\n",
       "  </thead>\n",
       "  <tbody>\n",
       "    <tr>\n",
       "      <th>0</th>\n",
       "      <td>1</td>\n",
       "      <td>1472827464</td>\n",
       "      <td>True</td>\n",
       "      <td>0.0</td>\n",
       "      <td>0.0</td>\n",
       "    </tr>\n",
       "    <tr>\n",
       "      <th>1</th>\n",
       "      <td>2</td>\n",
       "      <td>1519226966</td>\n",
       "      <td>True</td>\n",
       "      <td>2.0</td>\n",
       "      <td>0.0</td>\n",
       "    </tr>\n",
       "    <tr>\n",
       "      <th>2</th>\n",
       "      <td>3</td>\n",
       "      <td>1444581588</td>\n",
       "      <td>True</td>\n",
       "      <td>29.0</td>\n",
       "      <td>23.0</td>\n",
       "    </tr>\n",
       "    <tr>\n",
       "      <th>3</th>\n",
       "      <td>5</td>\n",
       "      <td>1499859939</td>\n",
       "      <td>True</td>\n",
       "      <td>2.0</td>\n",
       "      <td>2.0</td>\n",
       "    </tr>\n",
       "    <tr>\n",
       "      <th>4</th>\n",
       "      <td>7</td>\n",
       "      <td>1521634660</td>\n",
       "      <td>True</td>\n",
       "      <td>0.0</td>\n",
       "      <td>0.0</td>\n",
       "    </tr>\n",
       "  </tbody>\n",
       "</table>\n",
       "</div>"
      ],
      "text/plain": [
       "   user_id  last_timestamp  is_gone_users  correct  wrong\n",
       "0        1      1472827464           True      0.0    0.0\n",
       "1        2      1519226966           True      2.0    0.0\n",
       "2        3      1444581588           True     29.0   23.0\n",
       "3        5      1499859939           True      2.0    2.0\n",
       "4        7      1521634660           True      0.0    0.0"
      ]
     },
     "execution_count": 17,
     "metadata": {},
     "output_type": "execute_result"
    }
   ],
   "source": [
    "users_data.head()"
   ]
  },
  {
   "cell_type": "code",
   "execution_count": 18,
   "id": "announced-visiting",
   "metadata": {},
   "outputs": [],
   "source": [
    "users_data = users_data.merge(users_events_data, how = 'outer')"
   ]
  },
  {
   "cell_type": "code",
   "execution_count": 19,
   "id": "unlikely-scroll",
   "metadata": {},
   "outputs": [],
   "source": [
    "users_days = event_data.groupby('user_id').day.nunique().to_frame().reset_index()"
   ]
  },
  {
   "cell_type": "code",
   "execution_count": 20,
   "id": "intense-metabolism",
   "metadata": {},
   "outputs": [],
   "source": [
    "users_data = users_data.merge(users_days, how = 'outer')"
   ]
  },
  {
   "cell_type": "code",
   "execution_count": 21,
   "id": "dress-title",
   "metadata": {},
   "outputs": [
    {
     "data": {
      "text/html": [
       "<div>\n",
       "<style scoped>\n",
       "    .dataframe tbody tr th:only-of-type {\n",
       "        vertical-align: middle;\n",
       "    }\n",
       "\n",
       "    .dataframe tbody tr th {\n",
       "        vertical-align: top;\n",
       "    }\n",
       "\n",
       "    .dataframe thead th {\n",
       "        text-align: right;\n",
       "    }\n",
       "</style>\n",
       "<table border=\"1\" class=\"dataframe\">\n",
       "  <thead>\n",
       "    <tr style=\"text-align: right;\">\n",
       "      <th></th>\n",
       "      <th>user_id</th>\n",
       "      <th>last_timestamp</th>\n",
       "      <th>is_gone_users</th>\n",
       "      <th>correct</th>\n",
       "      <th>wrong</th>\n",
       "      <th>discovered</th>\n",
       "      <th>passed</th>\n",
       "      <th>started_attempt</th>\n",
       "      <th>viewed</th>\n",
       "      <th>day</th>\n",
       "    </tr>\n",
       "  </thead>\n",
       "  <tbody>\n",
       "    <tr>\n",
       "      <th>0</th>\n",
       "      <td>1</td>\n",
       "      <td>1472827464</td>\n",
       "      <td>True</td>\n",
       "      <td>0.0</td>\n",
       "      <td>0.0</td>\n",
       "      <td>1.0</td>\n",
       "      <td>0.0</td>\n",
       "      <td>0.0</td>\n",
       "      <td>1.0</td>\n",
       "      <td>1</td>\n",
       "    </tr>\n",
       "    <tr>\n",
       "      <th>1</th>\n",
       "      <td>2</td>\n",
       "      <td>1519226966</td>\n",
       "      <td>True</td>\n",
       "      <td>2.0</td>\n",
       "      <td>0.0</td>\n",
       "      <td>9.0</td>\n",
       "      <td>9.0</td>\n",
       "      <td>2.0</td>\n",
       "      <td>10.0</td>\n",
       "      <td>2</td>\n",
       "    </tr>\n",
       "    <tr>\n",
       "      <th>2</th>\n",
       "      <td>3</td>\n",
       "      <td>1444581588</td>\n",
       "      <td>True</td>\n",
       "      <td>29.0</td>\n",
       "      <td>23.0</td>\n",
       "      <td>91.0</td>\n",
       "      <td>87.0</td>\n",
       "      <td>30.0</td>\n",
       "      <td>192.0</td>\n",
       "      <td>7</td>\n",
       "    </tr>\n",
       "    <tr>\n",
       "      <th>3</th>\n",
       "      <td>5</td>\n",
       "      <td>1499859939</td>\n",
       "      <td>True</td>\n",
       "      <td>2.0</td>\n",
       "      <td>2.0</td>\n",
       "      <td>11.0</td>\n",
       "      <td>11.0</td>\n",
       "      <td>4.0</td>\n",
       "      <td>12.0</td>\n",
       "      <td>2</td>\n",
       "    </tr>\n",
       "    <tr>\n",
       "      <th>4</th>\n",
       "      <td>7</td>\n",
       "      <td>1521634660</td>\n",
       "      <td>True</td>\n",
       "      <td>0.0</td>\n",
       "      <td>0.0</td>\n",
       "      <td>1.0</td>\n",
       "      <td>1.0</td>\n",
       "      <td>0.0</td>\n",
       "      <td>1.0</td>\n",
       "      <td>1</td>\n",
       "    </tr>\n",
       "  </tbody>\n",
       "</table>\n",
       "</div>"
      ],
      "text/plain": [
       "   user_id  last_timestamp  is_gone_users  correct  wrong  discovered  passed  \\\n",
       "0        1      1472827464           True      0.0    0.0         1.0     0.0   \n",
       "1        2      1519226966           True      2.0    0.0         9.0     9.0   \n",
       "2        3      1444581588           True     29.0   23.0        91.0    87.0   \n",
       "3        5      1499859939           True      2.0    2.0        11.0    11.0   \n",
       "4        7      1521634660           True      0.0    0.0         1.0     1.0   \n",
       "\n",
       "   started_attempt  viewed  day  \n",
       "0              0.0     1.0    1  \n",
       "1              2.0    10.0    2  \n",
       "2             30.0   192.0    7  \n",
       "3              4.0    12.0    2  \n",
       "4              0.0     1.0    1  "
      ]
     },
     "execution_count": 21,
     "metadata": {},
     "output_type": "execute_result"
    }
   ],
   "source": [
    "users_data.head()"
   ]
  },
  {
   "cell_type": "code",
   "execution_count": 22,
   "id": "scheduled-stephen",
   "metadata": {},
   "outputs": [
    {
     "data": {
      "text/plain": [
       "19234"
      ]
     },
     "execution_count": 22,
     "metadata": {},
     "output_type": "execute_result"
    }
   ],
   "source": [
    "users_data.user_id.nunique()"
   ]
  },
  {
   "cell_type": "code",
   "execution_count": 24,
   "id": "raising-guinea",
   "metadata": {},
   "outputs": [],
   "source": [
    "users_data['passed_course']= users_data.passed > 170"
   ]
  },
  {
   "cell_type": "code",
   "execution_count": 25,
   "id": "fiscal-interim",
   "metadata": {},
   "outputs": [
    {
     "data": {
      "text/html": [
       "<div>\n",
       "<style scoped>\n",
       "    .dataframe tbody tr th:only-of-type {\n",
       "        vertical-align: middle;\n",
       "    }\n",
       "\n",
       "    .dataframe tbody tr th {\n",
       "        vertical-align: top;\n",
       "    }\n",
       "\n",
       "    .dataframe thead th {\n",
       "        text-align: right;\n",
       "    }\n",
       "</style>\n",
       "<table border=\"1\" class=\"dataframe\">\n",
       "  <thead>\n",
       "    <tr style=\"text-align: right;\">\n",
       "      <th></th>\n",
       "      <th>user_id</th>\n",
       "      <th>last_timestamp</th>\n",
       "      <th>is_gone_users</th>\n",
       "      <th>correct</th>\n",
       "      <th>wrong</th>\n",
       "      <th>discovered</th>\n",
       "      <th>passed</th>\n",
       "      <th>started_attempt</th>\n",
       "      <th>viewed</th>\n",
       "      <th>day</th>\n",
       "    </tr>\n",
       "    <tr>\n",
       "      <th>passed_course</th>\n",
       "      <th></th>\n",
       "      <th></th>\n",
       "      <th></th>\n",
       "      <th></th>\n",
       "      <th></th>\n",
       "      <th></th>\n",
       "      <th></th>\n",
       "      <th></th>\n",
       "      <th></th>\n",
       "      <th></th>\n",
       "    </tr>\n",
       "  </thead>\n",
       "  <tbody>\n",
       "    <tr>\n",
       "      <th>False</th>\n",
       "      <td>19234</td>\n",
       "      <td>19234</td>\n",
       "      <td>19234</td>\n",
       "      <td>19234</td>\n",
       "      <td>19234</td>\n",
       "      <td>5</td>\n",
       "      <td>5</td>\n",
       "      <td>5</td>\n",
       "      <td>5</td>\n",
       "      <td>19234</td>\n",
       "    </tr>\n",
       "  </tbody>\n",
       "</table>\n",
       "</div>"
      ],
      "text/plain": [
       "               user_id  last_timestamp  is_gone_users  correct  wrong  \\\n",
       "passed_course                                                           \n",
       "False            19234           19234          19234    19234  19234   \n",
       "\n",
       "               discovered  passed  started_attempt  viewed    day  \n",
       "passed_course                                                      \n",
       "False                   5       5                5       5  19234  "
      ]
     },
     "execution_count": 25,
     "metadata": {},
     "output_type": "execute_result"
    }
   ],
   "source": [
    "users_data.groupby('passed_course').count()"
   ]
  }
 ],
 "metadata": {
  "kernelspec": {
   "display_name": "Python 3",
   "language": "python",
   "name": "python3"
  },
  "language_info": {
   "codemirror_mode": {
    "name": "ipython",
    "version": 3
   },
   "file_extension": ".py",
   "mimetype": "text/x-python",
   "name": "python",
   "nbconvert_exporter": "python",
   "pygments_lexer": "ipython3",
   "version": "3.8.5"
  }
 },
 "nbformat": 4,
 "nbformat_minor": 5
}
