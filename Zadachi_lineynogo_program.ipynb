{
 "cells": [
  {
   "cell_type": "code",
   "execution_count": 2,
   "id": "coastal-senator",
   "metadata": {},
   "outputs": [],
   "source": [
    "import numpy as np\n",
    "from math import pi, sqrt"
   ]
  },
  {
   "cell_type": "code",
   "execution_count": 3,
   "id": "plain-infrared",
   "metadata": {},
   "outputs": [],
   "source": [
    "def volume(x):\n",
    "    return pi*(x[0]**2)*x[1]\n",
    "\n",
    "#def volume_r(x):\n",
    "   # return 2 * pi * x[0] * x[1]\n",
    "\n",
    "#def volume_h(x):\n",
    "  #  return pi * (x[0] ** 2)\n",
    "\n",
    "def gradient_volume(x):\n",
    "    return np.array([2 * pi * x[0] * x[1], pi * (x[0] ** 2)])\n",
    "\n",
    "def square(x):\n",
    "    return 2*pi*x[0]*(x[0]+x[1])\n",
    "\n",
    "#def square_r(x):\n",
    "#    return 4 * pi * x[0] + 2 * pi * x[1]\n",
    "\n",
    "#def square_h(x):\n",
    "#    return 2 * pi * x[0]\n",
    "\n",
    "def gradient_square(x):\n",
    "    return np.array([4 * pi * x[0] + 2 * pi * x[1], 2 * pi * x[0]])\n",
    "\n",
    "def gradient_length(GR):\n",
    "    return np.sqrt(GR[0] ** 2 + GR[1] ** 2)"
   ]
  },
  {
   "cell_type": "code",
   "execution_count": 81,
   "id": "recovered-belle",
   "metadata": {},
   "outputs": [],
   "source": [
    "def bisection(x):\n",
    "    eps = 0.000001 #константа различимости (подбирали)\n",
    "    length = 0.000003 #конечная длина интервала неопределенности (подбирали)\n",
    "    a = 0\n",
    "    b = 10\n",
    "    gradient = gradient_square(x)\n",
    "    while b - a > length:\n",
    "        lambd = (a+b)/2 - eps\n",
    "        mu = (a+b)/2 + eps\n",
    "        f_lambd = square(x - lambd * gradient)\n",
    "        f_mu = square(x - mu * gradient) \n",
    "        if f_lambd < f_mu:\n",
    "            b = mu\n",
    "        else:\n",
    "            a = lambd\n",
    "    return (a+b)/2"
   ]
  },
  {
   "cell_type": "code",
   "execution_count": 88,
   "id": "tired-islam",
   "metadata": {},
   "outputs": [],
   "source": [
    "eps = 0.01\n",
    "x = np.array([50, 50]) #r = x[0], h = x[1]\n",
    "GR = gradient_square(x)\n",
    "step = bisection(x)"
   ]
  },
  {
   "cell_type": "code",
   "execution_count": 89,
   "id": "public-lingerie",
   "metadata": {},
   "outputs": [],
   "source": [
    "while gradient_length(GR) > 138:\n",
    "    x = x - step * GR\n",
    "    while x[0] <= 0 or x[1] <= 0:\n",
    "        gradient_H = np.array([0, 0])\n",
    "        if x[0] < 0: \n",
    "            gradient_H[0] = 1\n",
    "        if x[1] < 0: \n",
    "            gradient_H[1] = 1\n",
    "        x = x + 1/10 * gradient_H\n",
    "    while volume(x) < 1000:\n",
    "        m = x[0]\n",
    "        n = x[1]\n",
    "        gradient_V = gradient_volume(x)\n",
    "        x = x + step/10000 * gradient_V \n",
    "    if abs(m-x[0]) < eps and abs(n-x[1]) < eps:\n",
    "        break\n",
    "    GR = gradient_square(x)\n",
    "    step = bisection(x) "
   ]
  },
  {
   "cell_type": "code",
   "execution_count": 90,
   "id": "disciplinary-death",
   "metadata": {},
   "outputs": [
    {
     "name": "stdout",
     "output_type": "stream",
     "text": [
      "r = 3.2997959430234323, h = 29.259832592864626, S = 675.0662471541204, V = 1000.9119588860901\n"
     ]
    }
   ],
   "source": [
    "print(f\"r = {x[0]}, h = {x[1]}, S = {square(x)}, V = {volume(x)}\") "
   ]
  },
  {
   "cell_type": "code",
   "execution_count": null,
   "id": "secure-cleaning",
   "metadata": {},
   "outputs": [],
   "source": []
  },
  {
   "cell_type": "code",
   "execution_count": null,
   "id": "earlier-family",
   "metadata": {},
   "outputs": [],
   "source": []
  }
 ],
 "metadata": {
  "kernelspec": {
   "display_name": "Python 3",
   "language": "python",
   "name": "python3"
  },
  "language_info": {
   "codemirror_mode": {
    "name": "ipython",
    "version": 3
   },
   "file_extension": ".py",
   "mimetype": "text/x-python",
   "name": "python",
   "nbconvert_exporter": "python",
   "pygments_lexer": "ipython3",
   "version": "3.8.5"
  }
 },
 "nbformat": 4,
 "nbformat_minor": 5
}
